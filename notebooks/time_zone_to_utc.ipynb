{
 "cells": [
  {
   "cell_type": "code",
   "execution_count": 1,
   "metadata": {},
   "outputs": [],
   "source": [
    "import pytz\n",
    "from datetime import datetime\n",
    "\n",
    "\n",
    "def convert_to_utc(time_str, time_zone_str):\n",
    "    # Parse the input time string\n",
    "    local_time = datetime.strptime(time_str, '%Y-%m-%d %H:%M:%S')\n",
    "\n",
    "    # Set the local time zone\n",
    "    local_tz = pytz.timezone(time_zone_str)\n",
    "    local_time = local_tz.localize(local_time)\n",
    "\n",
    "    # Convert to UTC\n",
    "    utc_time = local_time.astimezone(pytz.utc)\n",
    "\n",
    "    return utc_time.strftime('%Y-%m-%d %H:%M:%S')"
   ]
  },
  {
   "cell_type": "code",
   "execution_count": null,
   "metadata": {},
   "outputs": [],
   "source": [
    "time_str = '2023-10-01 15:30:00'  # Local time in the specified time zone\n",
    "time_zone_str = 'America/New_York'  # Time zone\n",
    "\n",
    "# Convert to UTC\n",
    "utc_time_str = convert_to_utc(time_str, time_zone_str)\n",
    "print(f\"UTC Time: {utc_time_str}\")"
   ]
  },
  {
   "cell_type": "code",
   "execution_count": 9,
   "metadata": {},
   "outputs": [],
   "source": [
    "\n",
    "# List all available time zones\n",
    "time_zones = pytz.all_timezones\n",
    "list_ = []\n",
    "for tz in time_zones:\n",
    "    list_.append({'value': tz, \"label\": tz.replace(\n",
    "        \"/\", \" / \").replace(\"_\", \" \")})"
   ]
  },
  {
   "cell_type": "code",
   "execution_count": null,
   "metadata": {},
   "outputs": [],
   "source": []
  }
 ],
 "metadata": {
  "kernelspec": {
   "display_name": "base",
   "language": "python",
   "name": "python3"
  },
  "language_info": {
   "codemirror_mode": {
    "name": "ipython",
    "version": 3
   },
   "file_extension": ".py",
   "mimetype": "text/x-python",
   "name": "python",
   "nbconvert_exporter": "python",
   "pygments_lexer": "ipython3",
   "version": "3.10.8"
  }
 },
 "nbformat": 4,
 "nbformat_minor": 2
}
