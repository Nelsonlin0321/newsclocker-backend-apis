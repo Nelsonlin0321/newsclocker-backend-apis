{
 "cells": [
  {
   "cell_type": "code",
   "execution_count": 1,
   "metadata": {},
   "outputs": [],
   "source": [
    "import os\n",
    "import cuid"
   ]
  },
  {
   "cell_type": "code",
   "execution_count": 2,
   "metadata": {},
   "outputs": [],
   "source": [
    "os.chdir(\"./../.\")"
   ]
  },
  {
   "cell_type": "code",
   "execution_count": 3,
   "metadata": {},
   "outputs": [],
   "source": [
    "import dotenv\n",
    "from pymongo import MongoClient"
   ]
  },
  {
   "cell_type": "code",
   "execution_count": 4,
   "metadata": {},
   "outputs": [
    {
     "data": {
      "text/plain": [
       "True"
      ]
     },
     "execution_count": 4,
     "metadata": {},
     "output_type": "execute_result"
    }
   ],
   "source": [
    "dotenv.load_dotenv()"
   ]
  },
  {
   "cell_type": "code",
   "execution_count": 5,
   "metadata": {},
   "outputs": [],
   "source": [
    "mongodb_url = os.environ.get(\"MONGODB_URL\")"
   ]
  },
  {
   "cell_type": "code",
   "execution_count": 6,
   "metadata": {},
   "outputs": [],
   "source": [
    "mongodb_client = MongoClient(mongodb_url)"
   ]
  },
  {
   "cell_type": "code",
   "execution_count": 7,
   "metadata": {},
   "outputs": [],
   "source": [
    "db = mongodb_client['newsclocker']"
   ]
  },
  {
   "cell_type": "markdown",
   "metadata": {},
   "source": [
    "### (1) Read All Icon\n"
   ]
  },
  {
   "cell_type": "code",
   "execution_count": 8,
   "metadata": {},
   "outputs": [],
   "source": [
    "prompts = list(db['Prompt'].find())"
   ]
  },
  {
   "cell_type": "code",
   "execution_count": 9,
   "metadata": {},
   "outputs": [],
   "source": [
    "unique_icons = list(set([p['icon'] for p in prompts]))"
   ]
  },
  {
   "cell_type": "markdown",
   "metadata": {},
   "source": [
    "### (2) Filter Icons\n"
   ]
  },
  {
   "cell_type": "code",
   "execution_count": 10,
   "metadata": {},
   "outputs": [],
   "source": [
    "existing_icons = set([item['icon']\n",
    "                      for item in db['PromptIcon'].find()])"
   ]
  },
  {
   "cell_type": "code",
   "execution_count": 11,
   "metadata": {},
   "outputs": [],
   "source": [
    "new_icons = [\n",
    "    {\"icon\": icon, \"_id\": cuid.cuid()\n",
    "     } for icon in unique_icons if icon not in existing_icons]"
   ]
  },
  {
   "cell_type": "markdown",
   "metadata": {},
   "source": [
    "### (3) Ingest the prompt\n"
   ]
  },
  {
   "cell_type": "code",
   "execution_count": 12,
   "metadata": {},
   "outputs": [
    {
     "data": {
      "text/plain": [
       "InsertManyResult(['cm5ie544i00003ckpm6oa88bb', 'cm5ie544i00013ckpwubfjw2e', 'cm5ie544i00023ckpijcqkt8f', 'cm5ie544i00033ckpwg7a99j4', 'cm5ie544i00043ckp6bvy4pje', 'cm5ie544i00053ckpr850sjci', 'cm5ie544i00063ckp8vwsjy4u', 'cm5ie544i00073ckpz33qfxif', 'cm5ie544i00083ckpkxpti6e4', 'cm5ie544i00093ckps273enl4', 'cm5ie544i000a3ckps111w4hw', 'cm5ie544i000b3ckpcnq4hq6b', 'cm5ie544i000c3ckp7h0kcj8j', 'cm5ie544i000d3ckp70icxlzh', 'cm5ie544i000e3ckp3bvaylm6', 'cm5ie544i000f3ckpgmbi7mcw', 'cm5ie544i000g3ckpx4ger7bo', 'cm5ie544i000h3ckpct67lp9i', 'cm5ie544i000i3ckpyareq5y9', 'cm5ie544i000j3ckpx6jursup', 'cm5ie544i000k3ckpfct7802w', 'cm5ie544i000l3ckp8m790tv1', 'cm5ie544i000m3ckp66k44abr', 'cm5ie544i000n3ckplv25nkh6', 'cm5ie544i000o3ckpj4pxvdjq', 'cm5ie544i000p3ckpvsfkyqgw', 'cm5ie544i000q3ckpzm1jjua9', 'cm5ie544i000r3ckpckfj3svd', 'cm5ie544i000s3ckpymgbgj44', 'cm5ie544i000t3ckplk9c6vnr', 'cm5ie544i000u3ckp0z5zkir1', 'cm5ie544i000v3ckprrgih5p0', 'cm5ie544i000w3ckpf3nlo6ql', 'cm5ie544i000x3ckpj3zjdmxd', 'cm5ie544i000y3ckpxtahsctz', 'cm5ie544i000z3ckp5twsvuc6', 'cm5ie544i00103ckpaow2ka9o', 'cm5ie544i00113ckpd3j4j680', 'cm5ie544i00123ckpfzv678l8', 'cm5ie544i00133ckp39du7jdu', 'cm5ie544i00143ckpn4x1ufec', 'cm5ie544i00153ckpe74ndm21', 'cm5ie544i00163ckpxvlfj6fy', 'cm5ie544i00173ckplecz1uv4', 'cm5ie544i00183ckputkm5n6r', 'cm5ie544i00193ckp6t21p6bj', 'cm5ie544i001a3ckp8tct0a5z', 'cm5ie544i001b3ckp6t97lkz6', 'cm5ie544i001c3ckpiakyebbk', 'cm5ie544i001d3ckp405i39kh', 'cm5ie544i001e3ckpna3fk2oi', 'cm5ie544i001f3ckpjjcgy52w', 'cm5ie544i001g3ckpjh8c9qde'], acknowledged=True)"
      ]
     },
     "execution_count": 12,
     "metadata": {},
     "output_type": "execute_result"
    }
   ],
   "source": [
    "db['PromptIcon'].insert_many(new_icons)"
   ]
  }
 ],
 "metadata": {
  "kernelspec": {
   "display_name": ".venv",
   "language": "python",
   "name": "python3"
  },
  "language_info": {
   "codemirror_mode": {
    "name": "ipython",
    "version": 3
   },
   "file_extension": ".py",
   "mimetype": "text/x-python",
   "name": "python",
   "nbconvert_exporter": "python",
   "pygments_lexer": "ipython3",
   "version": "3.12.7"
  }
 },
 "nbformat": 4,
 "nbformat_minor": 2
}
