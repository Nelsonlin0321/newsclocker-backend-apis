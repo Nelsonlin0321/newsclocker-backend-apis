{
 "cells": [
  {
   "cell_type": "code",
   "execution_count": 1,
   "metadata": {},
   "outputs": [],
   "source": [
    "import os"
   ]
  },
  {
   "cell_type": "code",
   "execution_count": 2,
   "metadata": {},
   "outputs": [],
   "source": [
    "os.chdir(\"./../.\")"
   ]
  },
  {
   "cell_type": "code",
   "execution_count": 3,
   "metadata": {},
   "outputs": [],
   "source": [
    "import dotenv\n",
    "from pymongo import MongoClient"
   ]
  },
  {
   "cell_type": "code",
   "execution_count": 4,
   "metadata": {},
   "outputs": [],
   "source": [
    "from app import utils"
   ]
  },
  {
   "cell_type": "code",
   "execution_count": 5,
   "metadata": {},
   "outputs": [
    {
     "data": {
      "text/plain": [
       "True"
      ]
     },
     "execution_count": 5,
     "metadata": {},
     "output_type": "execute_result"
    }
   ],
   "source": [
    "dotenv.load_dotenv()"
   ]
  },
  {
   "cell_type": "code",
   "execution_count": 6,
   "metadata": {},
   "outputs": [],
   "source": [
    "mongodb_url = os.environ.get(\"MONGODB_URL\")"
   ]
  },
  {
   "cell_type": "code",
   "execution_count": 7,
   "metadata": {},
   "outputs": [],
   "source": [
    "mongodb_client = MongoClient(mongodb_url)"
   ]
  },
  {
   "cell_type": "code",
   "execution_count": 8,
   "metadata": {},
   "outputs": [],
   "source": [
    "db = mongodb_client['default']"
   ]
  },
  {
   "cell_type": "markdown",
   "metadata": {},
   "source": [
    "### (1) Read All Icon"
   ]
  },
  {
   "cell_type": "code",
   "execution_count": 9,
   "metadata": {},
   "outputs": [],
   "source": [
    "prompts = list(db['Prompt'].find())"
   ]
  },
  {
   "cell_type": "code",
   "execution_count": 10,
   "metadata": {},
   "outputs": [],
   "source": [
    "unique_icons = list(set([p['icon'] for p in prompts]))"
   ]
  },
  {
   "cell_type": "markdown",
   "metadata": {},
   "source": [
    "### (2) Filter Icons"
   ]
  },
  {
   "cell_type": "code",
   "execution_count": 11,
   "metadata": {},
   "outputs": [],
   "source": [
    "existing_icons = set([item['icon']\n",
    "                      for item in db['PromptIcon'].find()])"
   ]
  },
  {
   "cell_type": "code",
   "execution_count": 12,
   "metadata": {},
   "outputs": [],
   "source": [
    "new_icons = [\n",
    "    {\"icon\": icon} for icon in unique_icons if icon not in existing_icons]"
   ]
  },
  {
   "cell_type": "markdown",
   "metadata": {},
   "source": [
    "### (3) Ingest the prompt"
   ]
  },
  {
   "cell_type": "code",
   "execution_count": 14,
   "metadata": {},
   "outputs": [
    {
     "data": {
      "text/plain": [
       "InsertManyResult([ObjectId('67617c0da9eff688eb2dcc4d'), ObjectId('67617c0da9eff688eb2dcc4e'), ObjectId('67617c0da9eff688eb2dcc4f'), ObjectId('67617c0da9eff688eb2dcc50'), ObjectId('67617c0da9eff688eb2dcc51'), ObjectId('67617c0da9eff688eb2dcc52'), ObjectId('67617c0da9eff688eb2dcc53'), ObjectId('67617c0da9eff688eb2dcc54'), ObjectId('67617c0da9eff688eb2dcc55'), ObjectId('67617c0da9eff688eb2dcc56'), ObjectId('67617c0da9eff688eb2dcc57'), ObjectId('67617c0da9eff688eb2dcc58'), ObjectId('67617c0da9eff688eb2dcc59'), ObjectId('67617c0da9eff688eb2dcc5a'), ObjectId('67617c0da9eff688eb2dcc5b'), ObjectId('67617c0da9eff688eb2dcc5c'), ObjectId('67617c0da9eff688eb2dcc5d'), ObjectId('67617c0da9eff688eb2dcc5e'), ObjectId('67617c0da9eff688eb2dcc5f'), ObjectId('67617c0da9eff688eb2dcc60'), ObjectId('67617c0da9eff688eb2dcc61'), ObjectId('67617c0da9eff688eb2dcc62'), ObjectId('67617c0da9eff688eb2dcc63'), ObjectId('67617c0da9eff688eb2dcc64'), ObjectId('67617c0da9eff688eb2dcc65'), ObjectId('67617c0da9eff688eb2dcc66'), ObjectId('67617c0da9eff688eb2dcc67'), ObjectId('67617c0da9eff688eb2dcc68'), ObjectId('67617c0da9eff688eb2dcc69'), ObjectId('67617c0da9eff688eb2dcc6a'), ObjectId('67617c0da9eff688eb2dcc6b'), ObjectId('67617c0da9eff688eb2dcc6c'), ObjectId('67617c0da9eff688eb2dcc6d'), ObjectId('67617c0da9eff688eb2dcc6e'), ObjectId('67617c0da9eff688eb2dcc6f'), ObjectId('67617c0da9eff688eb2dcc70'), ObjectId('67617c0da9eff688eb2dcc71'), ObjectId('67617c0da9eff688eb2dcc72'), ObjectId('67617c0da9eff688eb2dcc73'), ObjectId('67617c0da9eff688eb2dcc74'), ObjectId('67617c0da9eff688eb2dcc75'), ObjectId('67617c0da9eff688eb2dcc76'), ObjectId('67617c0da9eff688eb2dcc77'), ObjectId('67617c0da9eff688eb2dcc78'), ObjectId('67617c0da9eff688eb2dcc79'), ObjectId('67617c0da9eff688eb2dcc7a'), ObjectId('67617c0da9eff688eb2dcc7b'), ObjectId('67617c0da9eff688eb2dcc7c'), ObjectId('67617c0da9eff688eb2dcc7d'), ObjectId('67617c0da9eff688eb2dcc7e'), ObjectId('67617c0da9eff688eb2dcc7f'), ObjectId('67617c0da9eff688eb2dcc80'), ObjectId('67617c0da9eff688eb2dcc81')], acknowledged=True)"
      ]
     },
     "execution_count": 14,
     "metadata": {},
     "output_type": "execute_result"
    }
   ],
   "source": [
    "db['PromptIcon'].insert_many(new_icons)"
   ]
  },
  {
   "cell_type": "code",
   "execution_count": null,
   "metadata": {},
   "outputs": [],
   "source": []
  }
 ],
 "metadata": {
  "kernelspec": {
   "display_name": "base",
   "language": "python",
   "name": "python3"
  },
  "language_info": {
   "codemirror_mode": {
    "name": "ipython",
    "version": 3
   },
   "file_extension": ".py",
   "mimetype": "text/x-python",
   "name": "python",
   "nbconvert_exporter": "python",
   "pygments_lexer": "ipython3",
   "version": "3.12.7"
  }
 },
 "nbformat": 4,
 "nbformat_minor": 2
}
