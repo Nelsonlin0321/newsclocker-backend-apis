{
 "cells": [
  {
   "cell_type": "code",
   "execution_count": 1,
   "metadata": {},
   "outputs": [],
   "source": [
    "import os\n",
    "import cuid"
   ]
  },
  {
   "cell_type": "code",
   "execution_count": 2,
   "metadata": {},
   "outputs": [],
   "source": [
    "os.chdir(\"./../.\")"
   ]
  },
  {
   "cell_type": "code",
   "execution_count": 3,
   "metadata": {},
   "outputs": [],
   "source": [
    "import dotenv\n",
    "from pymongo import MongoClient"
   ]
  },
  {
   "cell_type": "code",
   "execution_count": 4,
   "metadata": {},
   "outputs": [],
   "source": [
    "from app import utils"
   ]
  },
  {
   "cell_type": "code",
   "execution_count": 5,
   "metadata": {},
   "outputs": [
    {
     "data": {
      "text/plain": [
       "True"
      ]
     },
     "execution_count": 5,
     "metadata": {},
     "output_type": "execute_result"
    }
   ],
   "source": [
    "dotenv.load_dotenv()"
   ]
  },
  {
   "cell_type": "code",
   "execution_count": 6,
   "metadata": {},
   "outputs": [],
   "source": [
    "mongodb_url = os.environ.get(\"MONGODB_URL\")"
   ]
  },
  {
   "cell_type": "code",
   "execution_count": 7,
   "metadata": {},
   "outputs": [],
   "source": [
    "mongodb_client = MongoClient(mongodb_url)"
   ]
  },
  {
   "cell_type": "code",
   "execution_count": 8,
   "metadata": {},
   "outputs": [],
   "source": [
    "db = mongodb_client['default']"
   ]
  },
  {
   "cell_type": "markdown",
   "metadata": {},
   "source": [
    "### (1) Read Input Prompt"
   ]
  },
  {
   "cell_type": "code",
   "execution_count": 9,
   "metadata": {},
   "outputs": [],
   "source": [
    "prompt_paths = [\"./prompts/prompt_investment.json\",\n",
    "                \"./prompts/prompt_2.json\", \"./prompts/prompt_1.json\"]"
   ]
  },
  {
   "cell_type": "code",
   "execution_count": 10,
   "metadata": {},
   "outputs": [],
   "source": [
    "prompt_list = []\n",
    "for path in prompt_paths:\n",
    "    prompt_list.extend(utils.read_json_file(path))"
   ]
  },
  {
   "cell_type": "code",
   "execution_count": 11,
   "metadata": {},
   "outputs": [],
   "source": [
    "# prompt_list"
   ]
  },
  {
   "cell_type": "markdown",
   "metadata": {},
   "source": [
    "### (2) Ingest Category"
   ]
  },
  {
   "cell_type": "code",
   "execution_count": 12,
   "metadata": {},
   "outputs": [],
   "source": [
    "unique_categories = list(set([p['category'] for p in prompt_list]))"
   ]
  },
  {
   "cell_type": "code",
   "execution_count": 13,
   "metadata": {},
   "outputs": [],
   "source": [
    "existing_categories = set([item['category']\n",
    "                           for item in db['PromptCategory'].find()])"
   ]
  },
  {
   "cell_type": "code",
   "execution_count": 14,
   "metadata": {},
   "outputs": [],
   "source": [
    "new_categories = [\n",
    "    {\"category\": category, \"_id\": cuid.cuid()} for category in unique_categories if category not in existing_categories]"
   ]
  },
  {
   "cell_type": "code",
   "execution_count": 15,
   "metadata": {},
   "outputs": [],
   "source": [
    "if new_categories:\n",
    "    db['PromptCategory'].insert_many(new_categories)"
   ]
  },
  {
   "cell_type": "markdown",
   "metadata": {},
   "source": [
    "### (3) Ingest the prompt"
   ]
  },
  {
   "cell_type": "code",
   "execution_count": 16,
   "metadata": {},
   "outputs": [],
   "source": [
    "userId = \"public\""
   ]
  },
  {
   "cell_type": "code",
   "execution_count": 17,
   "metadata": {},
   "outputs": [],
   "source": [
    "input_prompt_docs = []\n",
    "\n",
    "for prompt in prompt_list:\n",
    "    prompt.pop(\"id\")\n",
    "    prompt['userId'] = \"public\"\n",
    "    prompt['share'] = True\n",
    "    prompt['_id'] = cuid.cuid()\n",
    "    input_prompt_docs.append(prompt)"
   ]
  },
  {
   "cell_type": "code",
   "execution_count": 18,
   "metadata": {},
   "outputs": [
    {
     "data": {
      "text/plain": [
       "{'title': 'Analyze Stock Potential',\n",
       " 'description': 'Analyze the provided news article for potential buy signals for the given stock. Consider factors like company performance, industry trends, and market sentiment. Provide a summary of positive and negative indicators.',\n",
       " 'category': 'Stock Buy Signal',\n",
       " 'icon': '📈',\n",
       " 'userId': 'public',\n",
       " 'share': True,\n",
       " '_id': 'cm4vhluql000wx5kptd4g31ya'}"
      ]
     },
     "execution_count": 18,
     "metadata": {},
     "output_type": "execute_result"
    }
   ],
   "source": [
    "input_prompt_docs[0]"
   ]
  },
  {
   "cell_type": "code",
   "execution_count": 19,
   "metadata": {},
   "outputs": [
    {
     "data": {
      "text/plain": [
       "InsertManyResult(['cm4vhluql000wx5kptd4g31ya', 'cm4vhluql000xx5kpd5cnti11', 'cm4vhluqm000yx5kpmo6gas84', 'cm4vhluqm000zx5kpl8b53nyp', 'cm4vhluqm0010x5kpey2u9knw', 'cm4vhluqm0011x5kplqxd2w21', 'cm4vhluqm0012x5kpvolrz5wm', 'cm4vhluqm0013x5kprmse79jj', 'cm4vhluqm0014x5kp3nwjekp1', 'cm4vhluqm0015x5kpfx85b11n', 'cm4vhluqm0016x5kphb5idi82', 'cm4vhluqm0017x5kpf5cjmqo5', 'cm4vhluqm0018x5kpbtqg0cua', 'cm4vhluqm0019x5kpu4nstuve', 'cm4vhluqm001ax5kpsyqn9cw0', 'cm4vhluqm001bx5kpkym2v8b5', 'cm4vhluqm001cx5kp9h5k5gio', 'cm4vhluqm001dx5kpsor9pnnf', 'cm4vhluqm001ex5kpglvq5kj5', 'cm4vhluqm001fx5kp5jwavm9r', 'cm4vhluqm001gx5kpv5h3kvmw', 'cm4vhluqm001hx5kp612fwcgv', 'cm4vhluqm001ix5kpmn8d71ym', 'cm4vhluqm001jx5kp9wcxyi88', 'cm4vhluqm001kx5kpz3egzmue', 'cm4vhluqm001lx5kp2ao08xw2', 'cm4vhluqm001mx5kppk9na1xd', 'cm4vhluqm001nx5kppfoc2tyf', 'cm4vhluqm001ox5kpy473q18g', 'cm4vhluqm001px5kpfdn5dord', 'cm4vhluqm001qx5kp519crbbe', 'cm4vhluqm001rx5kp0e01zv74', 'cm4vhluqm001sx5kpbzm5ik9w', 'cm4vhluqm001tx5kphlvof26j', 'cm4vhluqm001ux5kpsmyxx2vz', 'cm4vhluqm001vx5kptba2m96t', 'cm4vhluqm001wx5kp4n4hgeqp', 'cm4vhluqm001xx5kp11q2oh43', 'cm4vhluqm001yx5kpprrq56k6', 'cm4vhluqm001zx5kp6lj0fk8o', 'cm4vhluqm0020x5kp1krb00ck', 'cm4vhluqm0021x5kp1lljqnvc', 'cm4vhluqm0022x5kpqwtgow5y', 'cm4vhluqm0023x5kplksac466', 'cm4vhluqm0024x5kphat3njmr', 'cm4vhluqm0025x5kpi2pgbfln', 'cm4vhluqm0026x5kpiw4jqn43', 'cm4vhluqm0027x5kpb3nl6ryc', 'cm4vhluqm0028x5kp2fe9otkv', 'cm4vhluqm0029x5kpcueaefnp', 'cm4vhluqm002ax5kp6ptkrvf4', 'cm4vhluqm002bx5kp8o8rk0a8', 'cm4vhluqm002cx5kpbbkv4qth', 'cm4vhluqm002dx5kp3m1jec8s', 'cm4vhluqm002ex5kpivu78bg0', 'cm4vhluqm002fx5kp9aewm3t5', 'cm4vhluqm002gx5kpb5couz3y', 'cm4vhluqm002hx5kpzdy9cs46', 'cm4vhluqm002ix5kp4tws1gb0', 'cm4vhluqm002jx5kpj1voqk8v', 'cm4vhluqm002kx5kpi0xn41dy', 'cm4vhluqm002lx5kpad00dugo', 'cm4vhluqm002mx5kpdqnm81ak', 'cm4vhluqm002nx5kpw8ih03ga', 'cm4vhluqm002ox5kpbd33u27u', 'cm4vhluqm002px5kp360swkcd', 'cm4vhluqm002qx5kp9854upyw', 'cm4vhluqm002rx5kpmkgf6429', 'cm4vhluqm002sx5kpkdii1l8w', 'cm4vhluqm002tx5kp4ffhdrik', 'cm4vhluqm002ux5kpxl9894bi', 'cm4vhluqm002vx5kpjawxe0it', 'cm4vhluqm002wx5kpwlxc6z4e', 'cm4vhluqm002xx5kplx7ci4ie', 'cm4vhluqm002yx5kpg2skkulk'], acknowledged=True)"
      ]
     },
     "execution_count": 19,
     "metadata": {},
     "output_type": "execute_result"
    }
   ],
   "source": [
    "db['Prompt'].insert_many(input_prompt_docs)"
   ]
  },
  {
   "cell_type": "code",
   "execution_count": null,
   "metadata": {},
   "outputs": [],
   "source": []
  }
 ],
 "metadata": {
  "kernelspec": {
   "display_name": "base",
   "language": "python",
   "name": "python3"
  },
  "language_info": {
   "codemirror_mode": {
    "name": "ipython",
    "version": 3
   },
   "file_extension": ".py",
   "mimetype": "text/x-python",
   "name": "python",
   "nbconvert_exporter": "python",
   "pygments_lexer": "ipython3",
   "version": "3.12.7"
  }
 },
 "nbformat": 4,
 "nbformat_minor": 2
}
