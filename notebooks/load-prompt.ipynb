{
 "cells": [
  {
   "cell_type": "code",
   "execution_count": 1,
   "metadata": {},
   "outputs": [],
   "source": [
    "import os"
   ]
  },
  {
   "cell_type": "code",
   "execution_count": 2,
   "metadata": {},
   "outputs": [],
   "source": [
    "os.chdir(\"./../.\")"
   ]
  },
  {
   "cell_type": "code",
   "execution_count": 3,
   "metadata": {},
   "outputs": [],
   "source": [
    "import dotenv\n",
    "from pymongo import MongoClient"
   ]
  },
  {
   "cell_type": "code",
   "execution_count": 4,
   "metadata": {},
   "outputs": [],
   "source": [
    "from app import utils"
   ]
  },
  {
   "cell_type": "code",
   "execution_count": 5,
   "metadata": {},
   "outputs": [
    {
     "data": {
      "text/plain": [
       "True"
      ]
     },
     "execution_count": 5,
     "metadata": {},
     "output_type": "execute_result"
    }
   ],
   "source": [
    "dotenv.load_dotenv()"
   ]
  },
  {
   "cell_type": "code",
   "execution_count": 6,
   "metadata": {},
   "outputs": [],
   "source": [
    "mongodb_url = os.environ.get(\"MONGODB_URL\")"
   ]
  },
  {
   "cell_type": "code",
   "execution_count": 7,
   "metadata": {},
   "outputs": [],
   "source": [
    "mongodb_client = MongoClient(mongodb_url)"
   ]
  },
  {
   "cell_type": "code",
   "execution_count": 8,
   "metadata": {},
   "outputs": [],
   "source": [
    "db = mongodb_client['default']"
   ]
  },
  {
   "cell_type": "markdown",
   "metadata": {},
   "source": [
    "### (1) Read Input Prompt"
   ]
  },
  {
   "cell_type": "code",
   "execution_count": 9,
   "metadata": {},
   "outputs": [],
   "source": [
    "prompt_paths = [\"./prompts/prompt_investment.json\",\n",
    "                \"./prompts/prompt_2.json\", \"./prompts/prompt_1.json\"]"
   ]
  },
  {
   "cell_type": "code",
   "execution_count": 10,
   "metadata": {},
   "outputs": [],
   "source": [
    "prompt_list = []\n",
    "for path in prompt_paths:\n",
    "    prompt_list.extend(utils.read_json_file(path))"
   ]
  },
  {
   "cell_type": "code",
   "execution_count": 12,
   "metadata": {},
   "outputs": [],
   "source": [
    "# prompt_list"
   ]
  },
  {
   "cell_type": "markdown",
   "metadata": {},
   "source": [
    "### (2) Ingest Category"
   ]
  },
  {
   "cell_type": "code",
   "execution_count": 13,
   "metadata": {},
   "outputs": [],
   "source": [
    "unique_categories = list(set([p['category'] for p in prompt_list]))"
   ]
  },
  {
   "cell_type": "code",
   "execution_count": 14,
   "metadata": {},
   "outputs": [],
   "source": [
    "existing_categories = set([item['category']\n",
    "                           for item in db['PromptCategory'].find()])"
   ]
  },
  {
   "cell_type": "code",
   "execution_count": 15,
   "metadata": {},
   "outputs": [],
   "source": [
    "new_categories = [\n",
    "    {\"category\": category} for category in unique_categories if category not in existing_categories]"
   ]
  },
  {
   "cell_type": "code",
   "execution_count": 18,
   "metadata": {},
   "outputs": [],
   "source": [
    "if new_categories:\n",
    "    db['PromptCategory'].insert_many(new_categories)"
   ]
  },
  {
   "cell_type": "markdown",
   "metadata": {},
   "source": [
    "### (3) Ingest the prompt"
   ]
  },
  {
   "cell_type": "code",
   "execution_count": 19,
   "metadata": {},
   "outputs": [],
   "source": [
    "userId = \"public\""
   ]
  },
  {
   "cell_type": "code",
   "execution_count": 23,
   "metadata": {},
   "outputs": [],
   "source": [
    "input_prompt_docs = []\n",
    "\n",
    "for prompt in prompt_list:\n",
    "    prompt.pop(\"id\")\n",
    "    prompt['userId'] = \"public\"\n",
    "    prompt['share'] = True\n",
    "    input_prompt_docs.append(prompt)"
   ]
  },
  {
   "cell_type": "code",
   "execution_count": 25,
   "metadata": {},
   "outputs": [
    {
     "data": {
      "text/plain": [
       "{'title': 'Analyze Stock Potential',\n",
       " 'description': 'Analyze the provided news article for potential buy signals for the given stock. Consider factors like company performance, industry trends, and market sentiment. Provide a summary of positive and negative indicators.',\n",
       " 'category': 'Stock Buy Signal',\n",
       " 'icon': '📈',\n",
       " 'userId': 'public',\n",
       " 'share': True}"
      ]
     },
     "execution_count": 25,
     "metadata": {},
     "output_type": "execute_result"
    }
   ],
   "source": [
    "input_prompt_docs[0]"
   ]
  },
  {
   "cell_type": "code",
   "execution_count": 26,
   "metadata": {},
   "outputs": [
    {
     "data": {
      "text/plain": [
       "InsertManyResult([ObjectId('676187753673592f48435d55'), ObjectId('676187753673592f48435d56'), ObjectId('676187753673592f48435d57'), ObjectId('676187753673592f48435d58'), ObjectId('676187753673592f48435d59'), ObjectId('676187753673592f48435d5a'), ObjectId('676187753673592f48435d5b'), ObjectId('676187753673592f48435d5c'), ObjectId('676187753673592f48435d5d'), ObjectId('676187753673592f48435d5e'), ObjectId('676187753673592f48435d5f'), ObjectId('676187753673592f48435d60'), ObjectId('676187753673592f48435d61'), ObjectId('676187753673592f48435d62'), ObjectId('676187753673592f48435d63'), ObjectId('676187753673592f48435d64'), ObjectId('676187753673592f48435d65'), ObjectId('676187753673592f48435d66'), ObjectId('676187753673592f48435d67'), ObjectId('676187753673592f48435d68'), ObjectId('676187753673592f48435d69'), ObjectId('676187753673592f48435d6a'), ObjectId('676187753673592f48435d6b'), ObjectId('676187753673592f48435d6c'), ObjectId('676187753673592f48435d6d'), ObjectId('676187753673592f48435d6e'), ObjectId('676187753673592f48435d6f'), ObjectId('676187753673592f48435d70'), ObjectId('676187753673592f48435d71'), ObjectId('676187753673592f48435d72'), ObjectId('676187753673592f48435d73'), ObjectId('676187753673592f48435d74'), ObjectId('676187753673592f48435d75'), ObjectId('676187753673592f48435d76'), ObjectId('676187753673592f48435d77'), ObjectId('676187753673592f48435d78'), ObjectId('676187753673592f48435d79'), ObjectId('676187753673592f48435d7a'), ObjectId('676187753673592f48435d7b'), ObjectId('676187753673592f48435d7c'), ObjectId('676187753673592f48435d7d'), ObjectId('676187753673592f48435d7e'), ObjectId('676187753673592f48435d7f'), ObjectId('676187753673592f48435d80'), ObjectId('676187753673592f48435d81'), ObjectId('676187753673592f48435d82'), ObjectId('676187753673592f48435d83'), ObjectId('676187753673592f48435d84'), ObjectId('676187753673592f48435d85'), ObjectId('676187753673592f48435d86'), ObjectId('676187753673592f48435d87'), ObjectId('676187753673592f48435d88'), ObjectId('676187753673592f48435d89'), ObjectId('676187753673592f48435d8a'), ObjectId('676187753673592f48435d8b'), ObjectId('676187753673592f48435d8c'), ObjectId('676187753673592f48435d8d'), ObjectId('676187753673592f48435d8e'), ObjectId('676187753673592f48435d8f'), ObjectId('676187753673592f48435d90'), ObjectId('676187753673592f48435d91'), ObjectId('676187753673592f48435d92'), ObjectId('676187753673592f48435d93'), ObjectId('676187753673592f48435d94'), ObjectId('676187753673592f48435d95'), ObjectId('676187753673592f48435d96'), ObjectId('676187753673592f48435d97'), ObjectId('676187753673592f48435d98'), ObjectId('676187753673592f48435d99'), ObjectId('676187753673592f48435d9a'), ObjectId('676187753673592f48435d9b'), ObjectId('676187753673592f48435d9c'), ObjectId('676187753673592f48435d9d'), ObjectId('676187753673592f48435d9e'), ObjectId('676187753673592f48435d9f')], acknowledged=True)"
      ]
     },
     "execution_count": 26,
     "metadata": {},
     "output_type": "execute_result"
    }
   ],
   "source": [
    "db['Prompt'].insert_many(input_prompt_docs)"
   ]
  },
  {
   "cell_type": "code",
   "execution_count": null,
   "metadata": {},
   "outputs": [],
   "source": []
  }
 ],
 "metadata": {
  "kernelspec": {
   "display_name": "base",
   "language": "python",
   "name": "python3"
  },
  "language_info": {
   "codemirror_mode": {
    "name": "ipython",
    "version": 3
   },
   "file_extension": ".py",
   "mimetype": "text/x-python",
   "name": "python",
   "nbconvert_exporter": "python",
   "pygments_lexer": "ipython3",
   "version": "3.12.7"
  }
 },
 "nbformat": 4,
 "nbformat_minor": 2
}
